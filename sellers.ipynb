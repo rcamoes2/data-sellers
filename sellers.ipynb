{
 "cells": [
  {
   "cell_type": "code",
   "execution_count": 1,
   "metadata": {},
   "outputs": [],
   "source": [
    "%load_ext autoreload\n",
    "%autoreload 2\n",
    "\n",
    "import pandas as pd\n",
    "import numpy as np \n",
    "import matplotlib.pyplot as plt\n",
    "import seaborn as sns\n",
    "import statsmodels.formula.api as smf\n",
    "from olist.data import Olist"
   ]
  },
  {
   "cell_type": "markdown",
   "metadata": {},
   "source": [
    "# Sellers"
   ]
  },
  {
   "cell_type": "markdown",
   "metadata": {},
   "source": [
    "🎯 Our goal is to find sellers who have repeatedly been underperforming vs. others, and understand why.  \n",
    "This will help us shape our recommendations about how to improve Olist's profit margin for the future."
   ]
  },
  {
   "cell_type": "markdown",
   "metadata": {},
   "source": [
    "❗️ Long Notebook. Once you've read a section, you can collapse it.\n",
    "<details>\n",
    "    <summary> <i>[remainder] Notebook best practices</i></summary>\n",
    "\n",
    "- Code your logic so that your Notebook can always be run from top to bottom without crashing (`Cell --> Run All`)\n",
    "- Name your variables carefully \n",
    "- Use dummy names such as `tmp` for intermediary steps when you know you won't need them later\n",
    "- Clear your code and merge cells when relevant to minimize Notebook size (`Shift-M`)\n",
    "- Hide your cell output if you don't need to see it anymore (double click on the red `Out[]:` section to the left of your cell).\n",
    "- Make heavy use of jupyter nbextention `Collapsable Headings` and `Table of Content` (call a TA if you can't find them)\n",
    "- Use the following shortcuts \n",
    "    - `a` to insert a cell above\n",
    "    - `b` to insert a cell below\n",
    "    - `dd` to delete a cell\n",
    "    - `esc` and `arrows` to move between cells\n",
    "    - `Shift-Enter` to execute cell and move focus to the next one\n",
    "    - use `Shift + Tab` when you're between method brackets e.g. `groupby()` to get the docs! Repeat a few times to open it permanently\n",
    "\n",
    "</details>\n",
    "\n",
    "\n",
    "\n"
   ]
  },
  {
   "cell_type": "markdown",
   "metadata": {
    "tags": []
   },
   "source": [
    "## 1 - `olist/seller.py`  "
   ]
  },
  {
   "cell_type": "markdown",
   "metadata": {},
   "source": [
    "In a process similar to `order.py`, we have coded for you the module `olist/seller.py` containing a class `Seller` with a method `Seller().get_training_data` that will return a DataFrame with the following features:\n",
    "  \n",
    "| feature_name \t| type \t| description \t|\n",
    "|:---\t|:---:\t|:---\t|\n",
    "| `seller_id` \t| str \t| the id of the seller **UNIQUE** \t|\n",
    "| `seller_city` \t| str \t| the city where seller is located \t|\n",
    "| `seller_state` \t| str \t| the state where seller is located \t|\n",
    "| `delay_to_carrier` \t| float \t| returns 0 if the order is delivered before the shipping_limit_date, otherwise the value of the delay \t|\n",
    "| `wait_time` \t| float \t| average wait_time (duration of deliveries) per seller \t|\n",
    "| `date_first_sale` \t| datetime \t| date of the first sale on Olist \t|\n",
    "| `date_last_sale` \t| datetime \t| date of the last sale on Olist \t|\n",
    "| `months_on_olist` \t| float \t| round number of months  on Olist\t|\n",
    "| `share_of_five_stars` \t| float \t| share of five-star reviews for orders in which the seller was involved \t|\n",
    "| `share_of_one_stars` \t| float \t| share of one-star reviews for orders in which the seller was involved \t|\n",
    "| `review_score` \t| float \t| average review score for orders in which the seller was involved \t|\n",
    "| `n_orders` \t| int \t| number of unique orders the seller was involved with \t|\n",
    "| `quantity` \t| int \t| total number of items sold by this seller \t|\n",
    "| `quantity_per_order` \t| float \t| average number of items per order for this seller \t|\n",
    "| `sales` \t| float \t| total sales associated with this seller (excluding freight value) in BRL \t|  "
   ]
  },
  {
   "cell_type": "markdown",
   "metadata": {},
   "source": [
    "❓ **Import your new class below and check out your training dataframe !** Take time to look at the code and understand exactly what has been computed for you"
   ]
  },
  {
   "cell_type": "code",
   "execution_count": 2,
   "metadata": {
    "scrolled": true,
    "tags": [
     "challengify"
    ]
   },
   "outputs": [
    {
     "name": "stdout",
     "output_type": "stream",
     "text": [
      "Index(['order_id', 'wait_time', 'expected_wait_time', 'delay_vs_expected',\n",
      "       'order_status', 'dim_is_five_star', 'dim_is_one_star', 'review_score',\n",
      "       'number_of_products', 'number_of_sellers', 'price', 'freight_value'],\n",
      "      dtype='object')\n",
      "                             seller_id  share_of_one_stars  \\\n",
      "0     0015a82c2db000af6aaaf3ae2ecb0532            0.333333   \n",
      "1     001cca7ae9ae17fb1caed9dfb1094831            0.121827   \n",
      "2     001e6ad469a905060d959994f1b41e4f            1.000000   \n",
      "3     002100f778ceb8431b7a1020ff7ab48f            0.134615   \n",
      "4     003554e2dce176b5555353e4f3555ac8            0.000000   \n",
      "...                                ...                 ...   \n",
      "3085  ffcfefa19b08742c5d315f2791395ee5            1.000000   \n",
      "3086  ffdd9f82b9a447f6f8d4b91554cc7dd3            0.055556   \n",
      "3087  ffeee66ac5d5a62fe688b9d26f83f534            0.142857   \n",
      "3088  fffd5413c0700ac820c7069d66d98c89            0.186441   \n",
      "3089  ffff564a4f9085cd26170f4732393726            0.650000   \n",
      "\n",
      "      share_of_five_stars  review_score  \n",
      "0                0.666667      3.666667  \n",
      "1                0.527919      3.984772  \n",
      "2                0.000000      1.000000  \n",
      "3                0.519231      3.903846  \n",
      "4                1.000000      5.000000  \n",
      "...                   ...           ...  \n",
      "3085             0.000000      1.000000  \n",
      "3086             0.666667      4.333333  \n",
      "3087             0.642857      4.214286  \n",
      "3088             0.542373      3.847458  \n",
      "3089             0.200000      2.100000  \n",
      "\n",
      "[3090 rows x 4 columns]\n"
     ]
    }
   ],
   "source": [
    "from olist.seller import Seller\n",
    "from olist.order import Order\n",
    "from olist.data import Olist"
   ]
  },
  {
   "cell_type": "code",
   "execution_count": null,
   "metadata": {},
   "outputs": [],
   "source": [
    "data = Olist().get_data()"
   ]
  },
  {
   "cell_type": "code",
   "execution_count": 3,
   "metadata": {},
   "outputs": [],
   "source": [
    "sellers = Seller().get_training_data()"
   ]
  },
  {
   "cell_type": "code",
   "execution_count": null,
   "metadata": {},
   "outputs": [],
   "source": [
    "orders = Order().get_training_data()"
   ]
  },
  {
   "cell_type": "markdown",
   "metadata": {},
   "source": [
    "🤔 One last thing remains to be computed for each seller:\n",
    "* the proportion of extremely high reviews (`share_of_five_stars`) and the proportion of extremely poor reviews (`share_of_one_stars`)\n",
    "* the (average) `review_score`\n",
    "\n",
    "😱 Each low-rated order will indeed have a negative impact on Olist's reputation and this is modeled by the `cost_of_review`.  \n",
    "\n",
    "This will help us compute the total `cost_of_review` per seller later on!\n",
    "\n",
    "❓ **Implement the last method that has been left for you `get_review_score()`**"
   ]
  },
  {
   "cell_type": "code",
   "execution_count": 4,
   "metadata": {},
   "outputs": [
    {
     "data": {
      "text/html": [
       "<div>\n",
       "<style scoped>\n",
       "    .dataframe tbody tr th:only-of-type {\n",
       "        vertical-align: middle;\n",
       "    }\n",
       "\n",
       "    .dataframe tbody tr th {\n",
       "        vertical-align: top;\n",
       "    }\n",
       "\n",
       "    .dataframe thead th {\n",
       "        text-align: right;\n",
       "    }\n",
       "</style>\n",
       "<table border=\"1\" class=\"dataframe\">\n",
       "  <thead>\n",
       "    <tr style=\"text-align: right;\">\n",
       "      <th></th>\n",
       "      <th>seller_id</th>\n",
       "      <th>seller_city</th>\n",
       "      <th>seller_state</th>\n",
       "      <th>delay_to_carrier</th>\n",
       "      <th>wait_time</th>\n",
       "      <th>date_first_sale</th>\n",
       "      <th>date_last_sale</th>\n",
       "      <th>months_on_olist</th>\n",
       "      <th>n_orders</th>\n",
       "      <th>quantity</th>\n",
       "      <th>quantity_per_order</th>\n",
       "      <th>sales</th>\n",
       "      <th>share_of_one_stars</th>\n",
       "      <th>share_of_five_stars</th>\n",
       "      <th>review_score</th>\n",
       "    </tr>\n",
       "  </thead>\n",
       "  <tbody>\n",
       "    <tr>\n",
       "      <th>0</th>\n",
       "      <td>3442f8959a84dea7ee197c632cb2df15</td>\n",
       "      <td>campinas</td>\n",
       "      <td>SP</td>\n",
       "      <td>0.000000</td>\n",
       "      <td>13.018588</td>\n",
       "      <td>2017-05-05 16:25:11</td>\n",
       "      <td>2017-08-30 12:50:19</td>\n",
       "      <td>4.0</td>\n",
       "      <td>3</td>\n",
       "      <td>3</td>\n",
       "      <td>1.000000</td>\n",
       "      <td>218.70</td>\n",
       "      <td>0.333333</td>\n",
       "      <td>0.333333</td>\n",
       "      <td>3.00</td>\n",
       "    </tr>\n",
       "    <tr>\n",
       "      <th>1</th>\n",
       "      <td>d1b65fc7debc3361ea86b5f14c68d2e2</td>\n",
       "      <td>mogi guacu</td>\n",
       "      <td>SP</td>\n",
       "      <td>0.000000</td>\n",
       "      <td>9.065716</td>\n",
       "      <td>2017-03-29 02:10:34</td>\n",
       "      <td>2018-06-06 20:15:21</td>\n",
       "      <td>14.0</td>\n",
       "      <td>40</td>\n",
       "      <td>41</td>\n",
       "      <td>1.025000</td>\n",
       "      <td>11703.07</td>\n",
       "      <td>0.050000</td>\n",
       "      <td>0.725000</td>\n",
       "      <td>4.55</td>\n",
       "    </tr>\n",
       "    <tr>\n",
       "      <th>2</th>\n",
       "      <td>ce3ad9de960102d0677a81f5d0bb7b2d</td>\n",
       "      <td>rio de janeiro</td>\n",
       "      <td>RJ</td>\n",
       "      <td>0.000000</td>\n",
       "      <td>4.042292</td>\n",
       "      <td>2018-07-30 12:44:49</td>\n",
       "      <td>2018-07-30 12:44:49</td>\n",
       "      <td>0.0</td>\n",
       "      <td>1</td>\n",
       "      <td>1</td>\n",
       "      <td>1.000000</td>\n",
       "      <td>158.00</td>\n",
       "      <td>0.000000</td>\n",
       "      <td>1.000000</td>\n",
       "      <td>5.00</td>\n",
       "    </tr>\n",
       "    <tr>\n",
       "      <th>3</th>\n",
       "      <td>c0f3eea2e14555b6faeea3dd58c1b1c3</td>\n",
       "      <td>sao paulo</td>\n",
       "      <td>SP</td>\n",
       "      <td>0.000000</td>\n",
       "      <td>5.667187</td>\n",
       "      <td>2018-08-03 00:44:08</td>\n",
       "      <td>2018-08-03 00:44:08</td>\n",
       "      <td>0.0</td>\n",
       "      <td>1</td>\n",
       "      <td>1</td>\n",
       "      <td>1.000000</td>\n",
       "      <td>79.99</td>\n",
       "      <td>0.000000</td>\n",
       "      <td>1.000000</td>\n",
       "      <td>5.00</td>\n",
       "    </tr>\n",
       "    <tr>\n",
       "      <th>4</th>\n",
       "      <td>51a04a8a6bdcb23deccc82b0b80742cf</td>\n",
       "      <td>braganca paulista</td>\n",
       "      <td>SP</td>\n",
       "      <td>3.353727</td>\n",
       "      <td>35.314861</td>\n",
       "      <td>2017-11-14 12:15:25</td>\n",
       "      <td>2017-11-14 12:15:25</td>\n",
       "      <td>0.0</td>\n",
       "      <td>1</td>\n",
       "      <td>1</td>\n",
       "      <td>1.000000</td>\n",
       "      <td>167.99</td>\n",
       "      <td>1.000000</td>\n",
       "      <td>0.000000</td>\n",
       "      <td>1.00</td>\n",
       "    </tr>\n",
       "    <tr>\n",
       "      <th>...</th>\n",
       "      <td>...</td>\n",
       "      <td>...</td>\n",
       "      <td>...</td>\n",
       "      <td>...</td>\n",
       "      <td>...</td>\n",
       "      <td>...</td>\n",
       "      <td>...</td>\n",
       "      <td>...</td>\n",
       "      <td>...</td>\n",
       "      <td>...</td>\n",
       "      <td>...</td>\n",
       "      <td>...</td>\n",
       "      <td>...</td>\n",
       "      <td>...</td>\n",
       "      <td>...</td>\n",
       "    </tr>\n",
       "    <tr>\n",
       "      <th>2962</th>\n",
       "      <td>98dddbc4601dd4443ca174359b237166</td>\n",
       "      <td>sarandi</td>\n",
       "      <td>PR</td>\n",
       "      <td>0.000000</td>\n",
       "      <td>8.230822</td>\n",
       "      <td>2018-07-14 03:10:19</td>\n",
       "      <td>2018-07-23 15:34:03</td>\n",
       "      <td>0.0</td>\n",
       "      <td>2</td>\n",
       "      <td>2</td>\n",
       "      <td>1.000000</td>\n",
       "      <td>158.00</td>\n",
       "      <td>0.000000</td>\n",
       "      <td>1.000000</td>\n",
       "      <td>5.00</td>\n",
       "    </tr>\n",
       "    <tr>\n",
       "      <th>2963</th>\n",
       "      <td>f8201cab383e484733266d1906e2fdfa</td>\n",
       "      <td>palhoca</td>\n",
       "      <td>SC</td>\n",
       "      <td>0.000000</td>\n",
       "      <td>13.045797</td>\n",
       "      <td>2017-06-17 15:30:11</td>\n",
       "      <td>2018-08-11 19:55:17</td>\n",
       "      <td>14.0</td>\n",
       "      <td>10</td>\n",
       "      <td>10</td>\n",
       "      <td>1.000000</td>\n",
       "      <td>889.00</td>\n",
       "      <td>0.100000</td>\n",
       "      <td>0.500000</td>\n",
       "      <td>4.10</td>\n",
       "    </tr>\n",
       "    <tr>\n",
       "      <th>2964</th>\n",
       "      <td>74871d19219c7d518d0090283e03c137</td>\n",
       "      <td>sao paulo</td>\n",
       "      <td>SP</td>\n",
       "      <td>0.000000</td>\n",
       "      <td>3.606625</td>\n",
       "      <td>2018-04-05 17:09:46</td>\n",
       "      <td>2018-08-21 19:25:15</td>\n",
       "      <td>5.0</td>\n",
       "      <td>6</td>\n",
       "      <td>7</td>\n",
       "      <td>1.166667</td>\n",
       "      <td>550.04</td>\n",
       "      <td>0.000000</td>\n",
       "      <td>1.000000</td>\n",
       "      <td>5.00</td>\n",
       "    </tr>\n",
       "    <tr>\n",
       "      <th>2965</th>\n",
       "      <td>e603cf3fec55f8697c9059638d6c8eb5</td>\n",
       "      <td>pelotas</td>\n",
       "      <td>RS</td>\n",
       "      <td>0.000000</td>\n",
       "      <td>6.657634</td>\n",
       "      <td>2017-02-09 02:43:17</td>\n",
       "      <td>2017-06-16 17:30:16</td>\n",
       "      <td>4.0</td>\n",
       "      <td>8</td>\n",
       "      <td>11</td>\n",
       "      <td>1.375000</td>\n",
       "      <td>297.00</td>\n",
       "      <td>0.000000</td>\n",
       "      <td>0.500000</td>\n",
       "      <td>4.25</td>\n",
       "    </tr>\n",
       "    <tr>\n",
       "      <th>2966</th>\n",
       "      <td>9e25199f6ef7e7c347120ff175652c3b</td>\n",
       "      <td>taubate</td>\n",
       "      <td>SP</td>\n",
       "      <td>0.000000</td>\n",
       "      <td>8.199456</td>\n",
       "      <td>2017-03-27 10:10:27</td>\n",
       "      <td>2017-03-27 10:10:27</td>\n",
       "      <td>0.0</td>\n",
       "      <td>1</td>\n",
       "      <td>1</td>\n",
       "      <td>1.000000</td>\n",
       "      <td>12.50</td>\n",
       "      <td>0.000000</td>\n",
       "      <td>0.000000</td>\n",
       "      <td>4.00</td>\n",
       "    </tr>\n",
       "  </tbody>\n",
       "</table>\n",
       "<p>2967 rows × 15 columns</p>\n",
       "</div>"
      ],
      "text/plain": [
       "                             seller_id        seller_city seller_state  \\\n",
       "0     3442f8959a84dea7ee197c632cb2df15           campinas           SP   \n",
       "1     d1b65fc7debc3361ea86b5f14c68d2e2         mogi guacu           SP   \n",
       "2     ce3ad9de960102d0677a81f5d0bb7b2d     rio de janeiro           RJ   \n",
       "3     c0f3eea2e14555b6faeea3dd58c1b1c3          sao paulo           SP   \n",
       "4     51a04a8a6bdcb23deccc82b0b80742cf  braganca paulista           SP   \n",
       "...                                ...                ...          ...   \n",
       "2962  98dddbc4601dd4443ca174359b237166            sarandi           PR   \n",
       "2963  f8201cab383e484733266d1906e2fdfa            palhoca           SC   \n",
       "2964  74871d19219c7d518d0090283e03c137          sao paulo           SP   \n",
       "2965  e603cf3fec55f8697c9059638d6c8eb5            pelotas           RS   \n",
       "2966  9e25199f6ef7e7c347120ff175652c3b            taubate           SP   \n",
       "\n",
       "      delay_to_carrier  wait_time     date_first_sale      date_last_sale  \\\n",
       "0             0.000000  13.018588 2017-05-05 16:25:11 2017-08-30 12:50:19   \n",
       "1             0.000000   9.065716 2017-03-29 02:10:34 2018-06-06 20:15:21   \n",
       "2             0.000000   4.042292 2018-07-30 12:44:49 2018-07-30 12:44:49   \n",
       "3             0.000000   5.667187 2018-08-03 00:44:08 2018-08-03 00:44:08   \n",
       "4             3.353727  35.314861 2017-11-14 12:15:25 2017-11-14 12:15:25   \n",
       "...                ...        ...                 ...                 ...   \n",
       "2962          0.000000   8.230822 2018-07-14 03:10:19 2018-07-23 15:34:03   \n",
       "2963          0.000000  13.045797 2017-06-17 15:30:11 2018-08-11 19:55:17   \n",
       "2964          0.000000   3.606625 2018-04-05 17:09:46 2018-08-21 19:25:15   \n",
       "2965          0.000000   6.657634 2017-02-09 02:43:17 2017-06-16 17:30:16   \n",
       "2966          0.000000   8.199456 2017-03-27 10:10:27 2017-03-27 10:10:27   \n",
       "\n",
       "      months_on_olist  n_orders  quantity  quantity_per_order     sales  \\\n",
       "0                 4.0         3         3            1.000000    218.70   \n",
       "1                14.0        40        41            1.025000  11703.07   \n",
       "2                 0.0         1         1            1.000000    158.00   \n",
       "3                 0.0         1         1            1.000000     79.99   \n",
       "4                 0.0         1         1            1.000000    167.99   \n",
       "...               ...       ...       ...                 ...       ...   \n",
       "2962              0.0         2         2            1.000000    158.00   \n",
       "2963             14.0        10        10            1.000000    889.00   \n",
       "2964              5.0         6         7            1.166667    550.04   \n",
       "2965              4.0         8        11            1.375000    297.00   \n",
       "2966              0.0         1         1            1.000000     12.50   \n",
       "\n",
       "      share_of_one_stars  share_of_five_stars  review_score  \n",
       "0               0.333333             0.333333          3.00  \n",
       "1               0.050000             0.725000          4.55  \n",
       "2               0.000000             1.000000          5.00  \n",
       "3               0.000000             1.000000          5.00  \n",
       "4               1.000000             0.000000          1.00  \n",
       "...                  ...                  ...           ...  \n",
       "2962            0.000000             1.000000          5.00  \n",
       "2963            0.100000             0.500000          4.10  \n",
       "2964            0.000000             1.000000          5.00  \n",
       "2965            0.000000             0.500000          4.25  \n",
       "2966            0.000000             0.000000          4.00  \n",
       "\n",
       "[2967 rows x 15 columns]"
      ]
     },
     "execution_count": 4,
     "metadata": {},
     "output_type": "execute_result"
    }
   ],
   "source": [
    "sellers"
   ]
  },
  {
   "cell_type": "markdown",
   "metadata": {},
   "source": [
    "🧪 Test your code below"
   ]
  },
  {
   "cell_type": "code",
   "execution_count": 8,
   "metadata": {},
   "outputs": [
    {
     "name": "stdout",
     "output_type": "stream",
     "text": [
      "\n",
      "\u001b[1m============================= test session starts ==============================\u001b[0m\n",
      "platform linux -- Python 3.10.6, pytest-7.1.3, pluggy-1.0.0 -- /home/rcamoes/.pyenv/versions/lewagon/bin/python3\n",
      "cachedir: .pytest_cache\n",
      "rootdir: /home/rcamoes/code/rcamoes2/data-sellers/tests\n",
      "plugins: anyio-3.6.2, asyncio-0.19.0\n",
      "asyncio: mode=strict\n",
      "\u001b[1mcollecting ... \u001b[0mcollected 2 items\n",
      "\n",
      "test_seller.py::TestSeller::test_median_review_score \u001b[32mPASSED\u001b[0m\u001b[32m              [ 50%]\u001b[0m\n",
      "test_seller.py::TestSeller::test_shape \u001b[32mPASSED\u001b[0m\u001b[32m                            [100%]\u001b[0m\n",
      "\n",
      "\u001b[32m============================== \u001b[32m\u001b[1m2 passed\u001b[0m\u001b[32m in 0.08s\u001b[0m\u001b[32m ===============================\u001b[0m\n",
      "\n",
      "\n",
      "💯 You can commit your code:\n",
      "\n",
      "\u001b[1;32mgit\u001b[39m add tests/seller.pickle\n",
      "\n",
      "\u001b[32mgit\u001b[39m commit -m \u001b[33m'Completed seller step'\u001b[39m\n",
      "\n",
      "\u001b[32mgit\u001b[39m push origin master\n",
      "\n"
     ]
    }
   ],
   "source": [
    "from nbresult import ChallengeResult\n",
    "\n",
    "tmp = Seller().get_training_data()\n",
    "result = ChallengeResult('seller',\n",
    "    shape = tmp.shape,\n",
    "    median = tmp.review_score.median()\n",
    ")\n",
    "result.write()\n",
    "print(result.check())"
   ]
  },
  {
   "cell_type": "markdown",
   "metadata": {},
   "source": [
    "## 2 - Sellers' Exploration"
   ]
  },
  {
   "cell_type": "markdown",
   "metadata": {},
   "source": [
    "### (2.1) Plots"
   ]
  },
  {
   "cell_type": "markdown",
   "metadata": {},
   "source": [
    "👉 Let's start with some initial ***`EDA - Exploratory Data Analysis`*** about these sellers.\n",
    "\n",
    "- 📈 Plot the distribution of each numerical variable of the dataset in one large figure\n",
    "- 👀 Do you notice any outliers?\n",
    "- What's the median of orders per seller ❓\n",
    "- How does the distribution of this variable look like ❓"
   ]
  },
  {
   "cell_type": "code",
   "execution_count": 9,
   "metadata": {
    "tags": [
     "challengify"
    ]
   },
   "outputs": [
    {
     "data": {
      "image/png": "[encoded data removed]",
      "text/plain": [
       "<Figure size 1500x1100 with 10 Axes>"
      ]
     },
     "metadata": {},
     "output_type": "display_data"
    }
   ],
   "source": [
    "plt.figure(figsize=(15,11))\n",
    "for (i, col) in enumerate(sellers.describe().columns):#[\"wait_time\", \"delay_to_carrier\", \"avg_review_score\", \"n_orders\", \"quantity\", \"price\"]):\n",
    "    plt.subplot(3,4,i+1)\n",
    "    sns.histplot(sellers[col], kde=False, stat='density', discrete=[True,None][col in ['share_of_one_stars','share_of_five_stars','sales']]);"
   ]
  },
  {
   "cell_type": "code",
   "execution_count": null,
   "metadata": {
    "tags": [
     "challengify"
    ]
   },
   "outputs": [],
   "source": [
    "# YOUR CODE HERE"
   ]
  },
  {
   "cell_type": "markdown",
   "metadata": {},
   "source": [
    "💡There seems to be a group of sellers which stands out for having very low review scores! \n",
    "\n",
    "📊 Let's investigate graphically it:\n",
    "* Using `plotly`, create a `scatterplot` of `delay_to_carrier` against `wait_time`, varying bubble size by total `sales` for that seller, and coloring by `review_score`. "
   ]
  },
  {
   "cell_type": "code",
   "execution_count": null,
   "metadata": {
    "tags": [
     "challengify"
    ]
   },
   "outputs": [],
   "source": [
    "# YOUR CODE HERE"
   ]
  },
  {
   "cell_type": "markdown",
   "metadata": {},
   "source": [
    "Feel free to change values `x`, `y`, `color` and `size` to try identify who are the worst sellers"
   ]
  },
  {
   "cell_type": "markdown",
   "metadata": {},
   "source": [
    "### (2.2) Model out `review_score` with OLS"
   ]
  },
  {
   "cell_type": "markdown",
   "metadata": {},
   "source": [
    "⚠️ Scatter plots have their limits. \n",
    "\n",
    "💡 A more rigorous way to explain **`sellers' review_score`** is to **model the impact of various features on `review_score` with a `multivariate-OLS` in `statsmodels`**.\n",
    "\n",
    "👉 Create an OLS with numerical features of your choice. \n",
    "\n",
    "❓ What are the most impactful ones? \n",
    "\n",
    "⚠️ Don't forget to standardize your features using the `standardize`function below to compare the regression coefficients together. "
   ]
  },
  {
   "cell_type": "code",
   "execution_count": null,
   "metadata": {},
   "outputs": [],
   "source": [
    "def standardize(df, features):\n",
    "    df_standardized = df.copy()\n",
    "    for f in features:\n",
    "        mu = df[f].mean()\n",
    "        sigma = df[f].std()\n",
    "        df_standardized[f] = df[f].map(lambda x: (x - mu) / sigma)\n",
    "    return df_standardized"
   ]
  },
  {
   "cell_type": "code",
   "execution_count": null,
   "metadata": {
    "tags": [
     "challengify"
    ]
   },
   "outputs": [],
   "source": [
    "# YOUR CODE HERE"
   ]
  },
  {
   "cell_type": "markdown",
   "metadata": {},
   "source": [
    "📊 Draw a `bar_plot` with sorted coefficients."
   ]
  },
  {
   "cell_type": "code",
   "execution_count": null,
   "metadata": {
    "tags": [
     "challengify"
    ]
   },
   "outputs": [],
   "source": [
    "# YOUR CODE HERE"
   ]
  },
  {
   "cell_type": "markdown",
   "metadata": {},
   "source": [
    "👉 Finally, investigate your model's performance (`R-squared`) and `residuals`"
   ]
  },
  {
   "cell_type": "code",
   "execution_count": null,
   "metadata": {
    "tags": [
     "challengify"
    ]
   },
   "outputs": [],
   "source": [
    "# YOUR CODE HERE"
   ]
  },
  {
   "cell_type": "markdown",
   "metadata": {},
   "source": [
    "👉 Compare the real review scores and the predicted scores by showing them on the same graph."
   ]
  },
  {
   "cell_type": "code",
   "execution_count": null,
   "metadata": {
    "tags": [
     "challengify"
    ]
   },
   "outputs": [],
   "source": [
    "# YOUR CODE HERE"
   ]
  },
  {
   "cell_type": "markdown",
   "metadata": {},
   "source": [
    "👉 Plot the residuals"
   ]
  },
  {
   "cell_type": "code",
   "execution_count": null,
   "metadata": {
    "tags": [
     "challengify"
    ]
   },
   "outputs": [],
   "source": [
    "# YOUR CODE HERE"
   ]
  },
  {
   "cell_type": "markdown",
   "metadata": {},
   "source": [
    "### (2.3) Add the `seller_state` to your analysis"
   ]
  },
  {
   "cell_type": "markdown",
   "metadata": {},
   "source": [
    "❓ We haven't used information about `seller_state` yet.  \n",
    "- Create a new OLS model regressing `review_score` on only on `seller_states` .\n",
    "- Analyse your significant features using `return_significative_coef(model)` coded for you in `olist/utils.py`\n",
    "- What are the best states in terms of `review_score`? \n",
    "\n",
    "<details>\n",
    "    <summary>- Hints -</summary>\n",
    "        \n",
    "⚠️ Be careful, `seller_state` is a categorical feature. \n",
    "    \n",
    "💡 Use `C(a_cat_feature)` in the formula to tell the linear regression model which variables are categorical variables. It will create one boolean variable `is_cat_feature_xx` **per unique category** \n",
    "\n",
    "</details>"
   ]
  },
  {
   "cell_type": "code",
   "execution_count": null,
   "metadata": {
    "tags": [
     "challengify"
    ]
   },
   "outputs": [],
   "source": [
    "# YOUR CODE HERE"
   ]
  },
  {
   "cell_type": "markdown",
   "metadata": {},
   "source": [
    "☝️ Some states indeed have _significantly_ better reviews than others on average. \n",
    "\n",
    "🤔 Is it due to some lower `quantity_per_order`, lower `wait_time`, or `delay_to_carrier`?  Or is it due to some other factors that we haven't collected data about?\n",
    "\n",
    "❓ **Try to isolate the impact of the `seller_state` from the rest by adding other continuous features to your OLS until `seller_states` is no longer statistically siginificant!**"
   ]
  },
  {
   "cell_type": "code",
   "execution_count": null,
   "metadata": {
    "tags": [
     "challengify"
    ]
   },
   "outputs": [],
   "source": [
    "# YOUR CODE HERE"
   ]
  },
  {
   "cell_type": "code",
   "execution_count": null,
   "metadata": {
    "tags": [
     "challengify"
    ]
   },
   "outputs": [],
   "source": [
    "# YOUR CODE HERE"
   ]
  },
  {
   "cell_type": "markdown",
   "metadata": {},
   "source": [
    "☝️ After adding `wait_time` to our analysis, none of the 22 dummy variables `is_seller_state_xx` are statistically signigicant:\n",
    "\n",
    "Given our small dataset (most states have a very limited number of sellers):\n",
    "- We _cannot conclude_ that \"some states are inherently better than other for reasons that would be independent of the `wait_time`\" \n",
    "- In other words, we _cannot reject the hypothesis_ that \"seller_state has no impact on review_score, other than through `wait_time`\""
   ]
  },
  {
   "cell_type": "markdown",
   "metadata": {},
   "source": [
    "🏁 Congratulations!\n",
    "\n",
    "💾 Commit and push :\n",
    "* your ` sellers.ipynb`notebook \n",
    "* as well as `seller.py`"
   ]
  },
  {
   "cell_type": "code",
   "execution_count": null,
   "metadata": {},
   "outputs": [],
   "source": []
  }
 ],
 "metadata": {
  "kernelspec": {
   "display_name": "Python 3 (ipykernel)",
   "language": "python",
   "name": "python3"
  },
  "language_info": {
   "codemirror_mode": {
    "name": "ipython",
    "version": 3
   },
   "file_extension": ".py",
   "mimetype": "text/x-python",
   "name": "python",
   "nbconvert_exporter": "python",
   "pygments_lexer": "ipython3",
   "version": "3.10.6"
  },
  "toc": {
   "base_numbering": 1,
   "nav_menu": {},
   "number_sections": true,
   "sideBar": true,
   "skip_h1_title": false,
   "title_cell": "Table of Contents",
   "title_sidebar": "Contents",
   "toc_cell": false,
   "toc_position": {},
   "toc_section_display": true,
   "toc_window_display": false
  }
 },
 "nbformat": 4,
 "nbformat_minor": 4
}
